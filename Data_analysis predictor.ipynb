{
 "cells": [
  {
   "cell_type": "markdown",
   "metadata": {},
   "source": [
    "## Trajectory optimization - COP - YOLO - Doei"
   ]
  },
  {
   "cell_type": "code",
   "execution_count": 1,
   "metadata": {},
   "outputs": [
    {
     "name": "stdout",
     "output_type": "stream",
     "text": [
      "Hellow world\n"
     ]
    }
   ],
   "source": [
    "print('Hellow world')"
   ]
  },
  {
   "cell_type": "code",
   "execution_count": null,
   "metadata": {},
   "outputs": [],
   "source": []
  },
  {
   "cell_type": "markdown",
   "metadata": {},
   "source": [
    "It is your task as Flight Operations Engineer researcher to develop different trajectory prediction \n",
    "algorithms. The goal is to predict the position of the aircraft in the next 10 minutes from any point. For this \n",
    "reason, different models should be evaluated to propose to Eurocontrol which one should be explored \n",
    "further. \n",
    "The following restrictions apply to the problem:\n",
    "1. EDA + plots\n",
    "2. Data cleaning and variable conversion is expected. \n",
    "3. Regression algorithm + another (explain which and why)\n",
    "5. You should predict the trajectory in the next 10 minutes from a selected point.\n",
    "a. 4D Output : Latitude, longitude, altitude, and time\n",
    "b. Show the degradation (or improvement of the solution) \n",
    "6. Your justification of selected parameters used in your algorithm predictor should be validated \n",
    "using statistical tools or techniques such as feature engineering or any other you think is valid. \n",
    "An explanation is expected.\n",
    "7. You must justify the quality of your model using tools such as residuals, F statistics, or any \n",
    "relevant tool. \n"
   ]
  },
  {
   "cell_type": "markdown",
   "metadata": {},
   "source": [
    "The optimization is divided as follows:\n",
    "* Data initialization;\n",
    "* Data-type conversion;\n",
    "* Data cleaning & variable conversion;\n",
    "* Data splitting:\n",
    "    - Climb;\n",
    "    - Enroute;\n",
    "    - Descent;\n",
    "* Data plotting & visualisation;\n",
    "* Regression models"
   ]
  },
  {
   "cell_type": "code",
   "execution_count": null,
   "metadata": {},
   "outputs": [],
   "source": [
    "import pandas as pd\n",
    "import numpy as np\n",
    "import matplotlib.pyplot as plt"
   ]
  },
  {
   "cell_type": "code",
   "execution_count": null,
   "metadata": {},
   "outputs": [],
   "source": [
    "df = pd.read_csv('combined_data.csv', nrows = 5000000)\n",
    "df.head()"
   ]
  },
  {
   "cell_type": "code",
   "execution_count": null,
   "metadata": {},
   "outputs": [],
   "source": [
    "df.drop(columns = 'Unnamed: 0', inplace = True)"
   ]
  },
  {
   "cell_type": "code",
   "execution_count": null,
   "metadata": {},
   "outputs": [],
   "source": [
    "df.info()"
   ]
  },
  {
   "cell_type": "markdown",
   "metadata": {},
   "source": [
    "## Data cleaning"
   ]
  },
  {
   "cell_type": "markdown",
   "metadata": {},
   "source": [
    "The data needs to be converted to the following:\n",
    "* Timestamp - to datetime\n",
    "* Callsign  - to string"
   ]
  },
  {
   "cell_type": "markdown",
   "metadata": {},
   "source": [
    "The following data needs to be dropped:\n",
    "* Long/Lat/Altitude/Barometric as NaN - dropna\n",
    "    - Being equal to ground when not operating\n",
    "* Rows where aircraft is still on the ground:\n",
    "    - Where the vertical rate == 0.0 AND ground speed => Vlof OR Vmin\n",
    "    - Cannot be related to altitude, as EHAM is below SL"
   ]
  },
  {
   "cell_type": "code",
   "execution_count": null,
   "metadata": {},
   "outputs": [],
   "source": [
    "# Determine VLOF and VMIN approximate\n",
    "filtered_df_lof = df[(df['baro_altitude'] <= 250) & (df['vertical_rate'] > 1)]\n",
    "filtered_df_min = df[(df['baro_altitude'] <= 250) & (df['vertical_rate'] < -1)]\n",
    "VLOF = filtered_df_lof['ground_speed'].mean()\n",
    "VMIN = filtered_df_min['ground_speed'].min()"
   ]
  },
  {
   "cell_type": "code",
   "execution_count": null,
   "metadata": {},
   "outputs": [],
   "source": [
    "# Change values below VLOF / VMIN into NaN\n",
    "for flight_number in df['icao24'].unique():\n",
    "    flight_df = df[df['icao24'] == flight_number]\n",
    "    \n",
    "    start_index = flight_df.index[flight_df['ground_speed'] < VLOF]\n",
    "    df.loc[start_index, 'ground_speed'] = float('nan')\n",
    "    \n",
    "    end_index = flight_df.index[flight_df['ground_speed'] < VMIN]\n",
    "    df.loc[end_index, 'ground_speed'] = float('nan')"
   ]
  },
  {
   "cell_type": "code",
   "execution_count": null,
   "metadata": {},
   "outputs": [],
   "source": [
    "def clean_first(df):\n",
    "    df.dropna(inplace = True)\n",
    "    df['timestamp'] = pd.to_datetime(df['timestamp'])\n",
    "    df = df.reset_index(drop=True)\n",
    "    df.drop(columns = ['altitude', 'hour', 'callsign', 'squawk', 'alert', 'spi', 'last_position'], inplace = True)\n",
    "    return df"
   ]
  },
  {
   "cell_type": "code",
   "execution_count": null,
   "metadata": {},
   "outputs": [],
   "source": [
    "df = clean_first(df)"
   ]
  },
  {
   "cell_type": "code",
   "execution_count": null,
   "metadata": {},
   "outputs": [],
   "source": [
    "# For onground categorie, some values are equal to True, while other values do not seem that way\n",
    "df[df['onground'] == True]\n",
    "def in_region(lat, lon, min_lat, max_lat, min_lon, max_lon):\n",
    "    return (lat.between(min_lat, max_lat)) & (lon.between(min_lon, max_lon))\n",
    "\n",
    "onground_true_df = df[df['onground'] == True]\n",
    "\n",
    "# Define the latitude and longitude bounds for Amsterdam Schiphol Airport region\n",
    "min_latitude_amsterdam, max_latitude_amsterdam = 52.3000, 52.4000\n",
    "min_longitude_amsterdam, max_longitude_amsterdam = 4.7000, 4.8000\n",
    "\n",
    "# Define the latitude and longitude bounds for El Prat Barcelona Airport region\n",
    "min_latitude_barcelona, max_latitude_barcelona = 41.3000, 41.4000\n",
    "min_longitude_barcelona, max_longitude_barcelona = 2.0500, 2.1500\n",
    "\n",
    "# Check if any row is within the specified regions\n",
    "in_amsterdam_region = in_region(\n",
    "    onground_true_df['latitude'], onground_true_df['longitude'],\n",
    "    min_latitude_amsterdam, max_latitude_amsterdam, min_longitude_amsterdam, max_longitude_amsterdam\n",
    ").any()\n",
    "\n",
    "in_barcelona_region = in_region(\n",
    "    onground_true_df['latitude'], onground_true_df['longitude'],\n",
    "    min_latitude_barcelona, max_latitude_barcelona, min_longitude_barcelona, max_longitude_barcelona\n",
    ").any()\n",
    "\n",
    "print(f\"The bounds are in the region of Schiphol: \" + str(in_amsterdam_region))\n",
    "print(f\"The bounds are in the region of El Prat: \" + str(in_barcelona_region))\n",
    "# So, the on-ground column is ignored as outliers"
   ]
  },
  {
   "cell_type": "code",
   "execution_count": null,
   "metadata": {},
   "outputs": [],
   "source": [
    "# df.drop(columns = 'onground', inplace = True)"
   ]
  },
  {
   "cell_type": "code",
   "execution_count": null,
   "metadata": {},
   "outputs": [],
   "source": [
    "df.head()"
   ]
  },
  {
   "cell_type": "markdown",
   "metadata": {},
   "source": [
    "## Data exploration"
   ]
  },
  {
   "cell_type": "markdown",
   "metadata": {},
   "source": [
    "To determine the total number of dayspan and total number of flights"
   ]
  },
  {
   "cell_type": "code",
   "execution_count": null,
   "metadata": {},
   "outputs": [],
   "source": [
    "total_days = df['timestamp'].dt.date.nunique()\n",
    "\n",
    "general_flights = df['callsign'].nunique()\n",
    "\n",
    "print(\"Total number of days:\", total_days)\n",
    "print(\"General number of flights:\", general_flights)"
   ]
  },
  {
   "cell_type": "code",
   "execution_count": null,
   "metadata": {},
   "outputs": [],
   "source": [
    "df = df.sort_values(by=['callsign', 'timestamp'])\n",
    "flight_times = df.groupby('callsign')['timestamp'].agg(['first', 'last'])\n",
    "\n",
    "flight_times['flight_duration'] = (flight_times['last'] - flight_times['first']).dt.total_seconds()\n",
    "\n",
    "mean_flight_time_per_flight = flight_times['flight_duration']\n",
    "general_flight_time_seconds = mean_flight_time_per_flight.mean()\n",
    "\n",
    "general_flight_hours = int(general_flight_time_seconds // 3600)\n",
    "general_flight_minutes = int((general_flight_time_seconds % 3600) // 60)\n",
    "\n",
    "print(\"General Flight Time across all Flights (in seconds):\", general_flight_time_seconds)\n",
    "print(\"General Flight Time across all Flights (in hours and minutes): {} hours and {} minutes\".format(general_flight_hours, general_flight_minutes))"
   ]
  },
  {
   "cell_type": "code",
   "execution_count": null,
   "metadata": {},
   "outputs": [],
   "source": [
    "df.head()"
   ]
  }
 ],
 "metadata": {
  "kernelspec": {
   "display_name": "Python 3",
   "language": "python",
   "name": "python3"
  },
  "language_info": {
   "codemirror_mode": {
    "name": "ipython",
    "version": 3
   },
   "file_extension": ".py",
   "mimetype": "text/x-python",
   "name": "python",
   "nbconvert_exporter": "python",
   "pygments_lexer": "ipython3",
   "version": "3.11.2"
  }
 },
 "nbformat": 4,
 "nbformat_minor": 2
}
