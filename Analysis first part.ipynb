{
 "cells": [
  {
   "cell_type": "markdown",
   "metadata": {},
   "source": [
    "# Trajectory prediction"
   ]
  },
  {
   "cell_type": "markdown",
   "metadata": {},
   "source": [
    "It is your task as Flight Operations Engineer researcher to develop different trajectory prediction \n",
    "algorithms. The goal is to predict the position of the aircraft in the next 10 minutes from any point. For this \n",
    "reason, different models should be evaluated to propose to Eurocontrol which one should be explored \n",
    "further. \n",
    "The following restrictions apply to the problem:\n",
    "1. EDA + plots\n",
    "2. Data cleaning and variable conversion is expected. \n",
    "3. Regression algorithm + another (explain which and why)\n",
    "5. You should predict the trajectory in the next 10 minutes from a selected point.\n",
    "a. 4D Output : Latitude, longitude, altitude, and time\n",
    "b. Show the degradation (or improvement of the solution) \n",
    "6. Your justification of selected parameters used in your algorithm predictor should be validated \n",
    "using statistical tools or techniques such as feature engineering or any other you think is valid. \n",
    "An explanation is expected.\n",
    "7. You must justify the quality of your model using tools such as residuals, F statistics, or any \n",
    "relevant tool. \n"
   ]
  },
  {
   "cell_type": "markdown",
   "metadata": {},
   "source": [
    "The optimization is divided as follows:\n",
    "* Data initialization;\n",
    "* Data-type conversion;\n",
    "* Data cleaning & variable conversion;\n",
    "* Data splitting:\n",
    "    - Climb;\n",
    "    - Enroute;\n",
    "    - Descent;\n",
    "* Data plotting & visualisation;\n",
    "* Regression models"
   ]
  },
  {
   "cell_type": "markdown",
   "metadata": {},
   "source": [
    "Het hele model maken moet ik nog doen, maar ik heb tot nu toe alleen de data gefilterd in aparte vluchten. Wat ik doe, is dat ik per csv file alles opsplits op aparte vluchten met de \"onground\" column. Dan kijk ik per \"vlucht\", of het aan mijn eisen voldoet (is het lang genoeg, begint het bij lebl, eindigt het bij eham, etc.). Als het aan alle eisen voldoet, voeg ik de vlucht toe. Als ik alle 4 de batches doorloop krijg ik zo'n 2000 aparte vluchten"
   ]
  },
  {
   "cell_type": "markdown",
   "metadata": {},
   "source": [
    "1. Lees het csv bestand in met pandas readcsv\n",
    "2. convert datetime en last_position column naar datetime format\n",
    "3. Als het verschil tussen timestamp en last_position van een row meer is dan 2 seconden, drop de row\n",
    "4. Groeppeer het dataframe bij onground: `df['group'] = (df['onground'] != df['onground'].shift(1)).cumsum()\n",
    "5. Vervolgens kan je df.groupby gebruiken op de nieuwe 'group' kolom en alle groups waar onground 'True' is verwijderen\n",
    "6. Met groupby heb je nu voor elke 'vlucht' een group, nu kan je voor elke group kijken of het wel echt een goede vlucht is, zoniet kan je hem verwijderen\n",
    "7. Nu heb je aparte dataframes met elke slechts 1 vlucht en kun je per vlucht de data opschonendddd"
   ]
  },
  {
   "cell_type": "markdown",
   "metadata": {},
   "source": [
    "1. all onground = True weg\n",
    "2. Nieuwe kolom timestamp_delta (s), groter dan x aantal seconden\n",
    "3. nieuwe kolom, groep"
   ]
  },
  {
   "cell_type": "markdown",
   "metadata": {},
   "source": [
    "1. all onground = True weg\n",
    "2. icao code en dag groupby"
   ]
  },
  {
   "cell_type": "markdown",
   "metadata": {},
   "source": [
    "### Data initialization"
   ]
  },
  {
   "cell_type": "code",
   "execution_count": 22,
   "metadata": {},
   "outputs": [],
   "source": [
    "import os\n",
    "import pandas as pd\n",
    "import numpy as np\n",
    "import matplotlib.pyplot as plt\n",
    "from datetime import datetime\n",
    "import seaborn as sns"
   ]
  },
  {
   "cell_type": "code",
   "execution_count": 23,
   "metadata": {},
   "outputs": [],
   "source": [
    "file_location = r'C:/Users/delan/Documents/HvA/Aviation Y4 - FOE en stage/FOE S1/FOE CoP/Optimization algorithm/CSV'\n",
    "\n",
    "flight_files : list[os.PathLike] = []\n",
    "\n",
    "for i in range(1, 26):\n",
    "    file_path = f\"{file_location}\\\\File_{i}.csv\"\n",
    "    if not os.path.isfile(file_path):\n",
    "        print(f\"File not found: {file_path}\")\n",
    "    \n",
    "    flight_files.append(pd.read_csv(file_path,  low_memory=False))"
   ]
  },
  {
   "cell_type": "markdown",
   "metadata": {},
   "source": [
    "### Initial data cleaning"
   ]
  },
  {
   "cell_type": "markdown",
   "metadata": {},
   "source": [
    "Making the data ready for data analysis"
   ]
  },
  {
   "cell_type": "markdown",
   "metadata": {},
   "source": [
    "Drop column 'Unnamed', 'hour' and 'callsign'.\n",
    "Change timestamp and last_position to datetime"
   ]
  },
  {
   "cell_type": "code",
   "execution_count": 24,
   "metadata": {},
   "outputs": [],
   "source": [
    "for i in range(len(flight_files)):\n",
    "    flight_files[i]['timestamp'] = pd.to_datetime(flight_files[i]['timestamp'], errors='coerce')\n",
    "    flight_files[i]['last_position'] = pd.to_datetime(flight_files[i]['last_position'], errors='coerce')\n",
    "    flight_files[i]['icao24'] = flight_files[i]['icao24'].astype(str)\n",
    "    flight_files[i].drop(columns = ['Unnamed: 0', 'hour', 'callsign'], inplace = True)"
   ]
  },
  {
   "cell_type": "code",
   "execution_count": 25,
   "metadata": {},
   "outputs": [
    {
     "name": "stdout",
     "output_type": "stream",
     "text": [
      "<class 'pandas.core.frame.DataFrame'>\n",
      "RangeIndex: 1083774 entries, 0 to 1083773\n",
      "Data columns (total 14 columns):\n",
      " #   Column         Non-Null Count    Dtype         \n",
      "---  ------         --------------    -----         \n",
      " 0   timestamp      1083774 non-null  datetime64[ns]\n",
      " 1   icao24         1083774 non-null  object        \n",
      " 2   latitude       1083774 non-null  float64       \n",
      " 3   longitude      1083774 non-null  float64       \n",
      " 4   ground_speed   1061121 non-null  float64       \n",
      " 5   track          1061121 non-null  float64       \n",
      " 6   vertical_rate  1061121 non-null  float64       \n",
      " 7   onground       1083774 non-null  bool          \n",
      " 8   alert          1083774 non-null  bool          \n",
      " 9   spi            1083774 non-null  bool          \n",
      " 10  squawk         988737 non-null   float64       \n",
      " 11  baro_altitude  1026550 non-null  float64       \n",
      " 12  altitude       1020215 non-null  float64       \n",
      " 13  last_position  1083774 non-null  datetime64[ns]\n",
      "dtypes: bool(3), datetime64[ns](2), float64(8), object(1)\n",
      "memory usage: 94.1+ MB\n"
     ]
    }
   ],
   "source": [
    "flight_files[0].info()"
   ]
  },
  {
   "cell_type": "markdown",
   "metadata": {},
   "source": [
    "Based on the condition of the difference between the 'timestamp' and 'last-position'. If bigger than 2 seconds, delete row."
   ]
  },
  {
   "cell_type": "code",
   "execution_count": 26,
   "metadata": {},
   "outputs": [],
   "source": [
    "for i in range(len(flight_files)):\n",
    "    time_difference = (flight_files[i]['timestamp'] - flight_files[i]['last_position']).dt.total_seconds()\n",
    "    flight_files[i] = flight_files[i][time_difference <= 2].copy()\n",
    "    flight_files[i].drop(columns=['last_position'], inplace=True)"
   ]
  },
  {
   "cell_type": "markdown",
   "metadata": {},
   "source": [
    "Determine where 'onground' column is equal to True, meaning the aircraft is not on in the air. These values should be deleted"
   ]
  },
  {
   "cell_type": "code",
   "execution_count": 73,
   "metadata": {},
   "outputs": [],
   "source": [
    "for i in range(len(flight_files)):\n",
    "    flight_files[i] = flight_files[i].drop(flight_files[i][flight_files[i]['onground']].index)\n",
    "\n",
    "    flight_files[i]['timestamp_delta'] = flight_files[i]['timestamp'].diff().dt.total_seconds()\n",
    "    x_seconds_threshold = 60 * 30\n",
    "    flight_files[i]['group'] = (flight_files[i]['timestamp_delta'] >= x_seconds_threshold).cumsum()\n",
    "\n",
    "    flight_files[i]['group'] = flight_files[i]['group'].mask(flight_files[i]['timestamp_delta'] >= x_seconds_threshold)\n",
    "    flight_files[i].reset_index(drop=True, inplace=True)\n",
    "    # Starting from group 0\n",
    "    flight_files[i]['group_duration'] = flight_files[i].groupby('group')['timestamp_delta'].transform('sum') / 3600"
   ]
  },
  {
   "cell_type": "code",
   "execution_count": 64,
   "metadata": {},
   "outputs": [
    {
     "data": {
      "text/html": [
       "<div>\n",
       "<style scoped>\n",
       "    .dataframe tbody tr th:only-of-type {\n",
       "        vertical-align: middle;\n",
       "    }\n",
       "\n",
       "    .dataframe tbody tr th {\n",
       "        vertical-align: top;\n",
       "    }\n",
       "\n",
       "    .dataframe thead th {\n",
       "        text-align: right;\n",
       "    }\n",
       "</style>\n",
       "<table border=\"1\" class=\"dataframe\">\n",
       "  <thead>\n",
       "    <tr style=\"text-align: right;\">\n",
       "      <th></th>\n",
       "      <th>timestamp</th>\n",
       "      <th>icao24</th>\n",
       "      <th>latitude</th>\n",
       "      <th>longitude</th>\n",
       "      <th>ground_speed</th>\n",
       "      <th>track</th>\n",
       "      <th>vertical_rate</th>\n",
       "      <th>onground</th>\n",
       "      <th>alert</th>\n",
       "      <th>spi</th>\n",
       "      <th>squawk</th>\n",
       "      <th>baro_altitude</th>\n",
       "      <th>altitude</th>\n",
       "      <th>timestamp_delta</th>\n",
       "      <th>group</th>\n",
       "      <th>group_duration</th>\n",
       "    </tr>\n",
       "  </thead>\n",
       "  <tbody>\n",
       "    <tr>\n",
       "      <th>0</th>\n",
       "      <td>2022-10-01 17:32:55</td>\n",
       "      <td>4853d1</td>\n",
       "      <td>52.300508</td>\n",
       "      <td>4.766968</td>\n",
       "      <td>83.528366</td>\n",
       "      <td>238.212747</td>\n",
       "      <td>0.0</td>\n",
       "      <td>False</td>\n",
       "      <td>False</td>\n",
       "      <td>False</td>\n",
       "      <td>2115.0</td>\n",
       "      <td>150.0</td>\n",
       "      <td>NaN</td>\n",
       "      <td>NaN</td>\n",
       "      <td>0.0</td>\n",
       "      <td>2.489444</td>\n",
       "    </tr>\n",
       "    <tr>\n",
       "      <th>1</th>\n",
       "      <td>2022-10-01 17:32:56</td>\n",
       "      <td>4853d1</td>\n",
       "      <td>52.300275</td>\n",
       "      <td>4.766262</td>\n",
       "      <td>87.132008</td>\n",
       "      <td>238.134022</td>\n",
       "      <td>0.0</td>\n",
       "      <td>False</td>\n",
       "      <td>False</td>\n",
       "      <td>False</td>\n",
       "      <td>2115.0</td>\n",
       "      <td>150.0</td>\n",
       "      <td>150.0</td>\n",
       "      <td>1.0</td>\n",
       "      <td>0.0</td>\n",
       "      <td>2.489444</td>\n",
       "    </tr>\n",
       "    <tr>\n",
       "      <th>2</th>\n",
       "      <td>2022-10-01 17:32:57</td>\n",
       "      <td>4853d1</td>\n",
       "      <td>52.300003</td>\n",
       "      <td>4.765625</td>\n",
       "      <td>87.132008</td>\n",
       "      <td>238.134022</td>\n",
       "      <td>0.0</td>\n",
       "      <td>False</td>\n",
       "      <td>False</td>\n",
       "      <td>False</td>\n",
       "      <td>2115.0</td>\n",
       "      <td>150.0</td>\n",
       "      <td>150.0</td>\n",
       "      <td>1.0</td>\n",
       "      <td>0.0</td>\n",
       "      <td>2.489444</td>\n",
       "    </tr>\n",
       "    <tr>\n",
       "      <th>3</th>\n",
       "      <td>2022-10-01 17:32:58</td>\n",
       "      <td>4853d1</td>\n",
       "      <td>52.299728</td>\n",
       "      <td>4.764938</td>\n",
       "      <td>98.792627</td>\n",
       "      <td>238.240520</td>\n",
       "      <td>0.0</td>\n",
       "      <td>False</td>\n",
       "      <td>False</td>\n",
       "      <td>False</td>\n",
       "      <td>2115.0</td>\n",
       "      <td>150.0</td>\n",
       "      <td>150.0</td>\n",
       "      <td>1.0</td>\n",
       "      <td>0.0</td>\n",
       "      <td>2.489444</td>\n",
       "    </tr>\n",
       "    <tr>\n",
       "      <th>4</th>\n",
       "      <td>2022-10-01 17:32:59</td>\n",
       "      <td>4853d1</td>\n",
       "      <td>52.299437</td>\n",
       "      <td>4.764221</td>\n",
       "      <td>98.792627</td>\n",
       "      <td>238.240520</td>\n",
       "      <td>0.0</td>\n",
       "      <td>False</td>\n",
       "      <td>False</td>\n",
       "      <td>False</td>\n",
       "      <td>2115.0</td>\n",
       "      <td>150.0</td>\n",
       "      <td>150.0</td>\n",
       "      <td>1.0</td>\n",
       "      <td>0.0</td>\n",
       "      <td>2.489444</td>\n",
       "    </tr>\n",
       "  </tbody>\n",
       "</table>\n",
       "</div>"
      ],
      "text/plain": [
       "            timestamp  icao24   latitude  longitude  ground_speed       track  \\\n",
       "0 2022-10-01 17:32:55  4853d1  52.300508   4.766968     83.528366  238.212747   \n",
       "1 2022-10-01 17:32:56  4853d1  52.300275   4.766262     87.132008  238.134022   \n",
       "2 2022-10-01 17:32:57  4853d1  52.300003   4.765625     87.132008  238.134022   \n",
       "3 2022-10-01 17:32:58  4853d1  52.299728   4.764938     98.792627  238.240520   \n",
       "4 2022-10-01 17:32:59  4853d1  52.299437   4.764221     98.792627  238.240520   \n",
       "\n",
       "   vertical_rate  onground  alert    spi  squawk  baro_altitude  altitude  \\\n",
       "0            0.0     False  False  False  2115.0          150.0       NaN   \n",
       "1            0.0     False  False  False  2115.0          150.0     150.0   \n",
       "2            0.0     False  False  False  2115.0          150.0     150.0   \n",
       "3            0.0     False  False  False  2115.0          150.0     150.0   \n",
       "4            0.0     False  False  False  2115.0          150.0     150.0   \n",
       "\n",
       "   timestamp_delta  group  group_duration  \n",
       "0              NaN    0.0        2.489444  \n",
       "1              1.0    0.0        2.489444  \n",
       "2              1.0    0.0        2.489444  \n",
       "3              1.0    0.0        2.489444  \n",
       "4              1.0    0.0        2.489444  "
      ]
     },
     "execution_count": 64,
     "metadata": {},
     "output_type": "execute_result"
    }
   ],
   "source": [
    "flight_files[0].head()"
   ]
  },
  {
   "cell_type": "code",
   "execution_count": 75,
   "metadata": {},
   "outputs": [
    {
     "data": {
      "text/html": [
       "<div>\n",
       "<style scoped>\n",
       "    .dataframe tbody tr th:only-of-type {\n",
       "        vertical-align: middle;\n",
       "    }\n",
       "\n",
       "    .dataframe tbody tr th {\n",
       "        vertical-align: top;\n",
       "    }\n",
       "\n",
       "    .dataframe thead th {\n",
       "        text-align: right;\n",
       "    }\n",
       "</style>\n",
       "<table border=\"1\" class=\"dataframe\">\n",
       "  <thead>\n",
       "    <tr style=\"text-align: right;\">\n",
       "      <th></th>\n",
       "      <th>latitude</th>\n",
       "      <th>longitude</th>\n",
       "      <th>ground_speed</th>\n",
       "      <th>track</th>\n",
       "      <th>vertical_rate</th>\n",
       "      <th>baro_altitude</th>\n",
       "      <th>altitude</th>\n",
       "      <th>group_duration</th>\n",
       "    </tr>\n",
       "  </thead>\n",
       "  <tbody>\n",
       "    <tr>\n",
       "      <th>count</th>\n",
       "      <td>940883.000000</td>\n",
       "      <td>940883.000000</td>\n",
       "      <td>939907.000000</td>\n",
       "      <td>939907.000000</td>\n",
       "      <td>939907.000000</td>\n",
       "      <td>937512.000000</td>\n",
       "      <td>937055.000000</td>\n",
       "      <td>940738.000000</td>\n",
       "    </tr>\n",
       "    <tr>\n",
       "      <th>mean</th>\n",
       "      <td>46.263755</td>\n",
       "      <td>-7.279736</td>\n",
       "      <td>413.096442</td>\n",
       "      <td>165.987189</td>\n",
       "      <td>43.093693</td>\n",
       "      <td>28498.071251</td>\n",
       "      <td>29234.461264</td>\n",
       "      <td>-49.756628</td>\n",
       "    </tr>\n",
       "    <tr>\n",
       "      <th>std</th>\n",
       "      <td>4.563016</td>\n",
       "      <td>29.287076</td>\n",
       "      <td>92.557482</td>\n",
       "      <td>136.428518</td>\n",
       "      <td>1142.272248</td>\n",
       "      <td>12624.795368</td>\n",
       "      <td>12901.594958</td>\n",
       "      <td>180.824858</td>\n",
       "    </tr>\n",
       "    <tr>\n",
       "      <th>min</th>\n",
       "      <td>25.908829</td>\n",
       "      <td>-118.706939</td>\n",
       "      <td>58.591758</td>\n",
       "      <td>0.000000</td>\n",
       "      <td>-18880.000000</td>\n",
       "      <td>-1000.000000</td>\n",
       "      <td>-50.000000</td>\n",
       "      <td>-703.118056</td>\n",
       "    </tr>\n",
       "    <tr>\n",
       "      <th>25%</th>\n",
       "      <td>42.552980</td>\n",
       "      <td>1.103985</td>\n",
       "      <td>384.774927</td>\n",
       "      <td>27.730532</td>\n",
       "      <td>-64.000000</td>\n",
       "      <td>20425.000000</td>\n",
       "      <td>21050.000000</td>\n",
       "      <td>1.743333</td>\n",
       "    </tr>\n",
       "    <tr>\n",
       "      <th>50%</th>\n",
       "      <td>46.618790</td>\n",
       "      <td>1.644819</td>\n",
       "      <td>443.805881</td>\n",
       "      <td>140.954107</td>\n",
       "      <td>0.000000</td>\n",
       "      <td>36000.000000</td>\n",
       "      <td>36500.000000</td>\n",
       "      <td>1.842500</td>\n",
       "    </tr>\n",
       "    <tr>\n",
       "      <th>75%</th>\n",
       "      <td>50.342402</td>\n",
       "      <td>3.608643</td>\n",
       "      <td>472.546944</td>\n",
       "      <td>341.113913</td>\n",
       "      <td>64.000000</td>\n",
       "      <td>37000.000000</td>\n",
       "      <td>37625.000000</td>\n",
       "      <td>1.974444</td>\n",
       "    </tr>\n",
       "    <tr>\n",
       "      <th>max</th>\n",
       "      <td>52.640625</td>\n",
       "      <td>19.834290</td>\n",
       "      <td>1125.599312</td>\n",
       "      <td>359.890027</td>\n",
       "      <td>26624.000000</td>\n",
       "      <td>117300.000000</td>\n",
       "      <td>127175.000000</td>\n",
       "      <td>4.832500</td>\n",
       "    </tr>\n",
       "  </tbody>\n",
       "</table>\n",
       "</div>"
      ],
      "text/plain": [
       "            latitude      longitude   ground_speed          track  \\\n",
       "count  940883.000000  940883.000000  939907.000000  939907.000000   \n",
       "mean       46.263755      -7.279736     413.096442     165.987189   \n",
       "std         4.563016      29.287076      92.557482     136.428518   \n",
       "min        25.908829    -118.706939      58.591758       0.000000   \n",
       "25%        42.552980       1.103985     384.774927      27.730532   \n",
       "50%        46.618790       1.644819     443.805881     140.954107   \n",
       "75%        50.342402       3.608643     472.546944     341.113913   \n",
       "max        52.640625      19.834290    1125.599312     359.890027   \n",
       "\n",
       "       vertical_rate  baro_altitude       altitude  group_duration  \n",
       "count  939907.000000  937512.000000  937055.000000   940738.000000  \n",
       "mean       43.093693   28498.071251   29234.461264      -49.756628  \n",
       "std      1142.272248   12624.795368   12901.594958      180.824858  \n",
       "min    -18880.000000   -1000.000000     -50.000000     -703.118056  \n",
       "25%       -64.000000   20425.000000   21050.000000        1.743333  \n",
       "50%         0.000000   36000.000000   36500.000000        1.842500  \n",
       "75%        64.000000   37000.000000   37625.000000        1.974444  \n",
       "max     26624.000000  117300.000000  127175.000000        4.832500  "
      ]
     },
     "execution_count": 75,
     "metadata": {},
     "output_type": "execute_result"
    }
   ],
   "source": [
    "flight_files[0][['latitude','longitude','ground_speed','track','vertical_rate','baro_altitude','altitude','group_duration']].describe()"
   ]
  },
  {
   "cell_type": "code",
   "execution_count": 82,
   "metadata": {},
   "outputs": [
    {
     "name": "stdout",
     "output_type": "stream",
     "text": [
      "6443.41095890411\n"
     ]
    }
   ],
   "source": [
    "group_row_counts = flight_files[0].groupby('group').size()\n",
    "print(group_row_counts.mean())"
   ]
  },
  {
   "cell_type": "code",
   "execution_count": 63,
   "metadata": {},
   "outputs": [
    {
     "ename": "TypeError",
     "evalue": "'>' not supported between instances of 'numpy.ndarray' and 'Timedelta'",
     "output_type": "error",
     "traceback": [
      "\u001b[1;31m---------------------------------------------------------------------------\u001b[0m",
      "\u001b[1;31mTypeError\u001b[0m                                 Traceback (most recent call last)",
      "\u001b[1;32mc:\\Users\\delan\\Documents\\HvA\\Aviation Y4 - FOE en stage\\FOE S1\\FOE CoP\\Optimization algorithm\\Data\\Analysis first part.ipynb Cell 22\u001b[0m line \u001b[0;36m1\n\u001b[0;32m      <a href='vscode-notebook-cell:/c%3A/Users/delan/Documents/HvA/Aviation%20Y4%20-%20FOE%20en%20stage/FOE%20S1/FOE%20CoP/Optimization%20algorithm/Data/Analysis%20first%20part.ipynb#X50sZmlsZQ%3D%3D?line=5'>6</a>\u001b[0m     \u001b[39m# condition_5 = first_alt < 2000\u001b[39;00m\n\u001b[0;32m      <a href='vscode-notebook-cell:/c%3A/Users/delan/Documents/HvA/Aviation%20Y4%20-%20FOE%20en%20stage/FOE%20S1/FOE%20CoP/Optimization%20algorithm/Data/Analysis%20first%20part.ipynb#X50sZmlsZQ%3D%3D?line=6'>7</a>\u001b[0m     \u001b[39m# condition_6 = last_alt < 2000\u001b[39;00m\n\u001b[0;32m      <a href='vscode-notebook-cell:/c%3A/Users/delan/Documents/HvA/Aviation%20Y4%20-%20FOE%20en%20stage/FOE%20S1/FOE%20CoP/Optimization%20algorithm/Data/Analysis%20first%20part.ipynb#X50sZmlsZQ%3D%3D?line=8'>9</a>\u001b[0m     \u001b[39mreturn\u001b[39;00m condition_1 \u001b[39mand\u001b[39;00m condition_2 \u001b[39mand\u001b[39;00m condition_3\n\u001b[1;32m---> <a href='vscode-notebook-cell:/c%3A/Users/delan/Documents/HvA/Aviation%20Y4%20-%20FOE%20en%20stage/FOE%20S1/FOE%20CoP/Optimization%20algorithm/Data/Analysis%20first%20part.ipynb#X50sZmlsZQ%3D%3D?line=10'>11</a>\u001b[0m valid_flights \u001b[39m=\u001b[39m [flight \u001b[39mfor\u001b[39;49;00m flight \u001b[39min\u001b[39;49;00m flight_files \u001b[39mif\u001b[39;49;00m filter_group(flight)]\n\u001b[0;32m     <a href='vscode-notebook-cell:/c%3A/Users/delan/Documents/HvA/Aviation%20Y4%20-%20FOE%20en%20stage/FOE%20S1/FOE%20CoP/Optimization%20algorithm/Data/Analysis%20first%20part.ipynb#X50sZmlsZQ%3D%3D?line=13'>14</a>\u001b[0m     \u001b[39m# flight_files[i] = flight_files[i].groupby('group').filter(lambda x: self.__filter_group(x)).groupby('group')\u001b[39;00m\n",
      "\u001b[1;32mc:\\Users\\delan\\Documents\\HvA\\Aviation Y4 - FOE en stage\\FOE S1\\FOE CoP\\Optimization algorithm\\Data\\Analysis first part.ipynb Cell 22\u001b[0m line \u001b[0;36m1\n\u001b[0;32m      <a href='vscode-notebook-cell:/c%3A/Users/delan/Documents/HvA/Aviation%20Y4%20-%20FOE%20en%20stage/FOE%20S1/FOE%20CoP/Optimization%20algorithm/Data/Analysis%20first%20part.ipynb#X50sZmlsZQ%3D%3D?line=5'>6</a>\u001b[0m     \u001b[39m# condition_5 = first_alt < 2000\u001b[39;00m\n\u001b[0;32m      <a href='vscode-notebook-cell:/c%3A/Users/delan/Documents/HvA/Aviation%20Y4%20-%20FOE%20en%20stage/FOE%20S1/FOE%20CoP/Optimization%20algorithm/Data/Analysis%20first%20part.ipynb#X50sZmlsZQ%3D%3D?line=6'>7</a>\u001b[0m     \u001b[39m# condition_6 = last_alt < 2000\u001b[39;00m\n\u001b[0;32m      <a href='vscode-notebook-cell:/c%3A/Users/delan/Documents/HvA/Aviation%20Y4%20-%20FOE%20en%20stage/FOE%20S1/FOE%20CoP/Optimization%20algorithm/Data/Analysis%20first%20part.ipynb#X50sZmlsZQ%3D%3D?line=8'>9</a>\u001b[0m     \u001b[39mreturn\u001b[39;00m condition_1 \u001b[39mand\u001b[39;00m condition_2 \u001b[39mand\u001b[39;00m condition_3\n\u001b[1;32m---> <a href='vscode-notebook-cell:/c%3A/Users/delan/Documents/HvA/Aviation%20Y4%20-%20FOE%20en%20stage/FOE%20S1/FOE%20CoP/Optimization%20algorithm/Data/Analysis%20first%20part.ipynb#X50sZmlsZQ%3D%3D?line=10'>11</a>\u001b[0m valid_flights \u001b[39m=\u001b[39m [flight \u001b[39mfor\u001b[39;00m flight \u001b[39min\u001b[39;00m flight_files \u001b[39mif\u001b[39;00m filter_group(flight)]\n\u001b[0;32m     <a href='vscode-notebook-cell:/c%3A/Users/delan/Documents/HvA/Aviation%20Y4%20-%20FOE%20en%20stage/FOE%20S1/FOE%20CoP/Optimization%20algorithm/Data/Analysis%20first%20part.ipynb#X50sZmlsZQ%3D%3D?line=13'>14</a>\u001b[0m     \u001b[39m# flight_files[i] = flight_files[i].groupby('group').filter(lambda x: self.__filter_group(x)).groupby('group')\u001b[39;00m\n",
      "\u001b[1;32mc:\\Users\\delan\\Documents\\HvA\\Aviation Y4 - FOE en stage\\FOE S1\\FOE CoP\\Optimization algorithm\\Data\\Analysis first part.ipynb Cell 22\u001b[0m line \u001b[0;36m4\n\u001b[0;32m      <a href='vscode-notebook-cell:/c%3A/Users/delan/Documents/HvA/Aviation%20Y4%20-%20FOE%20en%20stage/FOE%20S1/FOE%20CoP/Optimization%20algorithm/Data/Analysis%20first%20part.ipynb#X50sZmlsZQ%3D%3D?line=1'>2</a>\u001b[0m condition_1 \u001b[39m=\u001b[39m \u001b[39m4000\u001b[39m \u001b[39m<\u001b[39m df[\u001b[39m'\u001b[39m\u001b[39mgroup\u001b[39m\u001b[39m'\u001b[39m]\u001b[39m.\u001b[39mshape[\u001b[39m0\u001b[39m] \u001b[39m<\u001b[39m \u001b[39m10000\u001b[39m\n\u001b[0;32m      <a href='vscode-notebook-cell:/c%3A/Users/delan/Documents/HvA/Aviation%20Y4%20-%20FOE%20en%20stage/FOE%20S1/FOE%20CoP/Optimization%20algorithm/Data/Analysis%20first%20part.ipynb#X50sZmlsZQ%3D%3D?line=2'>3</a>\u001b[0m condition_2 \u001b[39m=\u001b[39m \u001b[39mlen\u001b[39m(df[\u001b[39m'\u001b[39m\u001b[39micao24\u001b[39m\u001b[39m'\u001b[39m]\u001b[39m.\u001b[39munique()) \u001b[39m==\u001b[39m \u001b[39m1\u001b[39m\n\u001b[1;32m----> <a href='vscode-notebook-cell:/c%3A/Users/delan/Documents/HvA/Aviation%20Y4%20-%20FOE%20en%20stage/FOE%20S1/FOE%20CoP/Optimization%20algorithm/Data/Analysis%20first%20part.ipynb#X50sZmlsZQ%3D%3D?line=3'>4</a>\u001b[0m condition_3 \u001b[39m=\u001b[39m (pd\u001b[39m.\u001b[39;49mTimedelta(hours\u001b[39m=\u001b[39;49m\u001b[39m1\u001b[39;49m, minutes\u001b[39m=\u001b[39;49m\u001b[39m30\u001b[39;49m) \u001b[39m<\u001b[39;49m df[\u001b[39m'\u001b[39;49m\u001b[39mgroup_duration\u001b[39;49m\u001b[39m'\u001b[39;49m]) \u001b[39m&\u001b[39m (df[\u001b[39m'\u001b[39m\u001b[39mgroup_duration\u001b[39m\u001b[39m'\u001b[39m] \u001b[39m<\u001b[39m pd\u001b[39m.\u001b[39mTimedelta(hours\u001b[39m=\u001b[39m\u001b[39m2\u001b[39m, minutes\u001b[39m=\u001b[39m\u001b[39m30\u001b[39m))\n\u001b[0;32m      <a href='vscode-notebook-cell:/c%3A/Users/delan/Documents/HvA/Aviation%20Y4%20-%20FOE%20en%20stage/FOE%20S1/FOE%20CoP/Optimization%20algorithm/Data/Analysis%20first%20part.ipynb#X50sZmlsZQ%3D%3D?line=5'>6</a>\u001b[0m \u001b[39m# condition_5 = first_alt < 2000\u001b[39;00m\n\u001b[0;32m      <a href='vscode-notebook-cell:/c%3A/Users/delan/Documents/HvA/Aviation%20Y4%20-%20FOE%20en%20stage/FOE%20S1/FOE%20CoP/Optimization%20algorithm/Data/Analysis%20first%20part.ipynb#X50sZmlsZQ%3D%3D?line=6'>7</a>\u001b[0m \u001b[39m# condition_6 = last_alt < 2000\u001b[39;00m\n\u001b[0;32m      <a href='vscode-notebook-cell:/c%3A/Users/delan/Documents/HvA/Aviation%20Y4%20-%20FOE%20en%20stage/FOE%20S1/FOE%20CoP/Optimization%20algorithm/Data/Analysis%20first%20part.ipynb#X50sZmlsZQ%3D%3D?line=8'>9</a>\u001b[0m \u001b[39mreturn\u001b[39;00m condition_1 \u001b[39mand\u001b[39;00m condition_2 \u001b[39mand\u001b[39;00m condition_3\n",
      "File \u001b[1;32mc:\\Users\\delan\\AppData\\Local\\Programs\\Python\\Python311\\Lib\\site-packages\\pandas\\core\\ops\\common.py:76\u001b[0m, in \u001b[0;36m_unpack_zerodim_and_defer.<locals>.new_method\u001b[1;34m(self, other)\u001b[0m\n\u001b[0;32m     72\u001b[0m             \u001b[39mreturn\u001b[39;00m \u001b[39mNotImplemented\u001b[39m\n\u001b[0;32m     74\u001b[0m other \u001b[39m=\u001b[39m item_from_zerodim(other)\n\u001b[1;32m---> 76\u001b[0m \u001b[39mreturn\u001b[39;00m method(\u001b[39mself\u001b[39;49m, other)\n",
      "File \u001b[1;32mc:\\Users\\delan\\AppData\\Local\\Programs\\Python\\Python311\\Lib\\site-packages\\pandas\\core\\arraylike.py:56\u001b[0m, in \u001b[0;36mOpsMixin.__gt__\u001b[1;34m(self, other)\u001b[0m\n\u001b[0;32m     54\u001b[0m \u001b[39m@unpack_zerodim_and_defer\u001b[39m(\u001b[39m\"\u001b[39m\u001b[39m__gt__\u001b[39m\u001b[39m\"\u001b[39m)\n\u001b[0;32m     55\u001b[0m \u001b[39mdef\u001b[39;00m \u001b[39m__gt__\u001b[39m(\u001b[39mself\u001b[39m, other):\n\u001b[1;32m---> 56\u001b[0m     \u001b[39mreturn\u001b[39;00m \u001b[39mself\u001b[39;49m\u001b[39m.\u001b[39;49m_cmp_method(other, operator\u001b[39m.\u001b[39;49mgt)\n",
      "File \u001b[1;32mc:\\Users\\delan\\AppData\\Local\\Programs\\Python\\Python311\\Lib\\site-packages\\pandas\\core\\series.py:5804\u001b[0m, in \u001b[0;36mSeries._cmp_method\u001b[1;34m(self, other, op)\u001b[0m\n\u001b[0;32m   5801\u001b[0m lvalues \u001b[39m=\u001b[39m \u001b[39mself\u001b[39m\u001b[39m.\u001b[39m_values\n\u001b[0;32m   5802\u001b[0m rvalues \u001b[39m=\u001b[39m extract_array(other, extract_numpy\u001b[39m=\u001b[39m\u001b[39mTrue\u001b[39;00m, extract_range\u001b[39m=\u001b[39m\u001b[39mTrue\u001b[39;00m)\n\u001b[1;32m-> 5804\u001b[0m res_values \u001b[39m=\u001b[39m ops\u001b[39m.\u001b[39;49mcomparison_op(lvalues, rvalues, op)\n\u001b[0;32m   5806\u001b[0m \u001b[39mreturn\u001b[39;00m \u001b[39mself\u001b[39m\u001b[39m.\u001b[39m_construct_result(res_values, name\u001b[39m=\u001b[39mres_name)\n",
      "File \u001b[1;32mc:\\Users\\delan\\AppData\\Local\\Programs\\Python\\Python311\\Lib\\site-packages\\pandas\\core\\ops\\array_ops.py:332\u001b[0m, in \u001b[0;36mcomparison_op\u001b[1;34m(left, right, op)\u001b[0m\n\u001b[0;32m    323\u001b[0m         \u001b[39mraise\u001b[39;00m \u001b[39mValueError\u001b[39;00m(\n\u001b[0;32m    324\u001b[0m             \u001b[39m\"\u001b[39m\u001b[39mLengths must match to compare\u001b[39m\u001b[39m\"\u001b[39m, lvalues\u001b[39m.\u001b[39mshape, rvalues\u001b[39m.\u001b[39mshape\n\u001b[0;32m    325\u001b[0m         )\n\u001b[0;32m    327\u001b[0m \u001b[39mif\u001b[39;00m should_extension_dispatch(lvalues, rvalues) \u001b[39mor\u001b[39;00m (\n\u001b[0;32m    328\u001b[0m     (\u001b[39misinstance\u001b[39m(rvalues, (Timedelta, BaseOffset, Timestamp)) \u001b[39mor\u001b[39;00m right \u001b[39mis\u001b[39;00m NaT)\n\u001b[0;32m    329\u001b[0m     \u001b[39mand\u001b[39;00m lvalues\u001b[39m.\u001b[39mdtype \u001b[39m!=\u001b[39m \u001b[39mobject\u001b[39m\n\u001b[0;32m    330\u001b[0m ):\n\u001b[0;32m    331\u001b[0m     \u001b[39m# Call the method on lvalues\u001b[39;00m\n\u001b[1;32m--> 332\u001b[0m     res_values \u001b[39m=\u001b[39m op(lvalues, rvalues)\n\u001b[0;32m    334\u001b[0m \u001b[39melif\u001b[39;00m is_scalar(rvalues) \u001b[39mand\u001b[39;00m isna(rvalues):  \u001b[39m# TODO: but not pd.NA?\u001b[39;00m\n\u001b[0;32m    335\u001b[0m     \u001b[39m# numpy does not like comparisons vs None\u001b[39;00m\n\u001b[0;32m    336\u001b[0m     \u001b[39mif\u001b[39;00m op \u001b[39mis\u001b[39;00m operator\u001b[39m.\u001b[39mne:\n",
      "\u001b[1;31mTypeError\u001b[0m: '>' not supported between instances of 'numpy.ndarray' and 'Timedelta'"
     ]
    }
   ],
   "source": [
    "def filter_group(df):\n",
    "    condition_1 = group_row_counts.quantile(0.25) < df['group'].shape[0] < group_row_counts.quantile(0.75)\n",
    "    condition_2 = len(df['icao24'].unique()) == 1\n",
    "    condition_3 = (pd.Timedelta(hours=1, minutes=30) < df['group_duration']) & (df['group_duration'] < pd.Timedelta(hours=2, minutes=30))\n",
    "\n",
    "    # condition_5 = first_alt < 2000\n",
    "    # condition_6 = last_alt < 2000\n",
    "\n",
    "    return condition_1 and condition_2 and condition_3\n",
    "\n",
    "valid_flights = [flight for flight in flight_files if filter_group(flight)]\n",
    "\n",
    "\n",
    "    # flight_files[i] = flight_files[i].groupby('group').filter(lambda x: self.__filter_group(x)).groupby('group')"
   ]
  },
  {
   "cell_type": "code",
   "execution_count": 32,
   "metadata": {},
   "outputs": [
    {
     "ename": "NameError",
     "evalue": "name 'valid_flights' is not defined",
     "output_type": "error",
     "traceback": [
      "\u001b[1;31m---------------------------------------------------------------------------\u001b[0m",
      "\u001b[1;31mNameError\u001b[0m                                 Traceback (most recent call last)",
      "\u001b[1;32mc:\\Users\\delan\\Documents\\HvA\\Aviation Y4 - FOE en stage\\FOE S1\\FOE CoP\\Optimization algorithm\\Data\\Analysis first part.ipynb Cell 24\u001b[0m line \u001b[0;36m1\n\u001b[1;32m----> <a href='vscode-notebook-cell:/c%3A/Users/delan/Documents/HvA/Aviation%20Y4%20-%20FOE%20en%20stage/FOE%20S1/FOE%20CoP/Optimization%20algorithm/Data/Analysis%20first%20part.ipynb#X26sZmlsZQ%3D%3D?line=0'>1</a>\u001b[0m valid_flights\n",
      "\u001b[1;31mNameError\u001b[0m: name 'valid_flights' is not defined"
     ]
    }
   ],
   "source": [
    "valid_flights"
   ]
  },
  {
   "cell_type": "markdown",
   "metadata": {},
   "source": [
    "Determine if aircraft is within end/start bounds of EHAM/LEBL"
   ]
  },
  {
   "cell_type": "code",
   "execution_count": null,
   "metadata": {},
   "outputs": [],
   "source": [
    "# # For onground categorie, some values are equal to True, while other values do not seem that way\n",
    "# df[df['onground'] == True]\n",
    "# def in_region(lat, lon, min_lat, max_lat, min_lon, max_lon):\n",
    "#     return (lat.between(min_lat, max_lat)) & (lon.between(min_lon, max_lon))\n",
    "\n",
    "# onground_true_df = df[df['onground'] == True]\n",
    "\n",
    "# # Define the latitude and longitude bounds for Amsterdam Schiphol Airport region\n",
    "# min_latitude_amsterdam, max_latitude_amsterdam = 52.3000, 52.4000\n",
    "# min_longitude_amsterdam, max_longitude_amsterdam = 4.7000, 4.8000\n",
    "\n",
    "# # Define the latitude and longitude bounds for El Prat Barcelona Airport region\n",
    "# min_latitude_barcelona, max_latitude_barcelona = 41.3000, 41.4000\n",
    "# min_longitude_barcelona, max_longitude_barcelona = 2.0500, 2.1500\n",
    "\n",
    "# # Check if any row is within the specified regions\n",
    "# in_amsterdam_region = in_region(\n",
    "#     onground_true_df['latitude'], onground_true_df['longitude'],\n",
    "#     min_latitude_amsterdam, max_latitude_amsterdam, min_longitude_amsterdam, max_longitude_amsterdam\n",
    "# ).any()\n",
    "\n",
    "# in_barcelona_region = in_region(\n",
    "#     onground_true_df['latitude'], onground_true_df['longitude'],\n",
    "#     min_latitude_barcelona, max_latitude_barcelona, min_longitude_barcelona, max_longitude_barcelona\n",
    "# ).any()\n",
    "\n",
    "# print(f\"The bounds are in the region of Schiphol: \" + str(in_amsterdam_region))\n",
    "# print(f\"The bounds are in the region of El Prat: \" + str(in_barcelona_region))\n",
    "# # So, the on-ground column is ignored as outliers"
   ]
  },
  {
   "cell_type": "markdown",
   "metadata": {},
   "source": [
    "### Data splitting"
   ]
  },
  {
   "cell_type": "markdown",
   "metadata": {},
   "source": [
    "Split every batch (csv) in a seperate df using 'Onground' column"
   ]
  },
  {
   "cell_type": "code",
   "execution_count": null,
   "metadata": {},
   "outputs": [],
   "source": [
    "# flight_starts = batch1['onground'] & ~batch1['onground'].shift(1, fill_value=True)\n",
    "# flight_ids = (~flight_starts).cumsum()\n",
    "\n",
    "# flight_groups = batch1.groupby(flight_ids)\n",
    "\n",
    "# flight_dataframes = {flight_id: batch1[batch1['onground'] == False] for flight_id, group in flight_groups}"
   ]
  },
  {
   "cell_type": "code",
   "execution_count": null,
   "metadata": {},
   "outputs": [],
   "source": []
  },
  {
   "cell_type": "markdown",
   "metadata": {},
   "source": [
    "### Data cleaning"
   ]
  },
  {
   "cell_type": "markdown",
   "metadata": {},
   "source": [
    "The data needs to be converted to the following:\n",
    "* Timestamp - to datetime\n",
    "* Callsign  - to string"
   ]
  },
  {
   "cell_type": "markdown",
   "metadata": {},
   "source": [
    "* Long/Lat/Altitude/Barometric as NaN - dropna\n",
    "    - Being equal to ground when not operating"
   ]
  },
  {
   "cell_type": "markdown",
   "metadata": {},
   "source": [
    "Check if the data:\n",
    "* Starts at LEBL\n",
    "* Ends at EHAM\n",
    "* Has timestamp within limits"
   ]
  },
  {
   "cell_type": "markdown",
   "metadata": {},
   "source": [
    "Per batch, plot flight profiles on lat, lon and altitude.\n",
    "If good, add together"
   ]
  },
  {
   "cell_type": "code",
   "execution_count": null,
   "metadata": {},
   "outputs": [],
   "source": []
  }
 ],
 "metadata": {
  "kernelspec": {
   "display_name": "Python 3",
   "language": "python",
   "name": "python3"
  },
  "language_info": {
   "codemirror_mode": {
    "name": "ipython",
    "version": 3
   },
   "file_extension": ".py",
   "mimetype": "text/x-python",
   "name": "python",
   "nbconvert_exporter": "python",
   "pygments_lexer": "ipython3",
   "version": "3.11.2"
  }
 },
 "nbformat": 4,
 "nbformat_minor": 2
}
